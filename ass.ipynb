{
 "cells": [
  {
   "cell_type": "code",
   "execution_count": 102,
   "metadata": {},
   "outputs": [
    {
     "name": "stdout",
     "output_type": "stream",
     "text": [
      "what is your alex\n",
      "[4, 6, 9]\n",
      "Hello,alex! lets explore your favourite number:\n",
      "The number 4 is even.\n",
      "The number 6 is even.\n",
      "The number 9 is odd\n",
      "the number is 4 and is square:(4, 16)\n",
      "the number is 6 and is square:(6, 36)\n",
      "the number is 9 and is square:(9, 81)\n",
      "here is the sum of your fvrt number,19\n",
      "Amazing!19is a prime number\n"
     ]
    }
   ],
   "source": [
    "list = []\n",
    "name = str(input(\"enter your name:\"))\n",
    "print(f\"what is your {name}\")\n",
    "for x in range(1,4):\n",
    "    num  =int(input(f\"enter your{x} fvrt number:\"))\n",
    "    list.append(num)\n",
    "print(list)\n",
    "print(f\"Hello,{name}! lets explore your favourite number:\")\n",
    "for num in list:\n",
    "    if num % 2 == 0:\n",
    "       print(f\"The number {num} is even.\")\n",
    "    else:\n",
    "       print(f\"The number {num} is odd\")\n",
    "for num in list:\n",
    "   print(f\"the number is {num} and is square:{num,num*num}\")\n",
    "sums = 0\n",
    "for num in list:\n",
    "   sums = sums +num\n",
    "print(f\"here is the sum of your fvrt number,{sums}\")\n",
    "prime = True\n",
    "if sums <=1:\n",
    "   prime = False\n",
    "for num in range (2,sums):\n",
    "      if sums % x ==0 :\n",
    "         print (false)\n",
    "\n",
    "if prime:\n",
    "       print(f\"Amazing!{sums} is a prime number\")\n",
    "else:\n",
    "    print(f\"Wow,{sums} is not a prime number\")\n",
    "\n",
    " \n"
   ]
  },
  {
   "cell_type": "code",
   "execution_count": null,
   "metadata": {},
   "outputs": [],
   "source": []
  },
  {
   "cell_type": "code",
   "execution_count": null,
   "metadata": {},
   "outputs": [],
   "source": []
  },
  {
   "cell_type": "code",
   "execution_count": null,
   "metadata": {},
   "outputs": [],
   "source": []
  },
  {
   "cell_type": "code",
   "execution_count": null,
   "metadata": {},
   "outputs": [],
   "source": []
  }
 ],
 "metadata": {
  "kernelspec": {
   "display_name": "Python 3",
   "language": "python",
   "name": "python3"
  },
  "language_info": {
   "codemirror_mode": {
    "name": "ipython",
    "version": 3
   },
   "file_extension": ".py",
   "mimetype": "text/x-python",
   "name": "python",
   "nbconvert_exporter": "python",
   "pygments_lexer": "ipython3",
   "version": "3.12.4"
  }
 },
 "nbformat": 4,
 "nbformat_minor": 2
}
