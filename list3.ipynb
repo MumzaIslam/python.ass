{
 "cells": [
  {
   "cell_type": "code",
   "execution_count": 1,
   "metadata": {},
   "outputs": [
    {
     "name": "stdout",
     "output_type": "stream",
     "text": [
      "wajeeha\n",
      "huma\n",
      "fatima\n",
      "zainab\n",
      "iffat\n",
      "aneeq\n"
     ]
    }
   ],
   "source": [
    "                                     3.1\n",
    "\n",
    "friends_name:list = ['wajeeha','huma','fatima','zainab','iffat','aneeq']\n",
    "print(friends_name[0])\n",
    "print(friends_name[1])\n",
    "print(friends_name[2])\n",
    "print(friends_name[3])\n",
    "print(friends_name[4])\n",
    "print(friends_name[5])"
   ]
  },
  {
   "cell_type": "code",
   "execution_count": 2,
   "metadata": {},
   "outputs": [
    {
     "name": "stdout",
     "output_type": "stream",
     "text": [
      "My best friend is Wajeeha\n",
      "My best friend is Huma\n",
      "My best friend is Fatima\n",
      "My best friend is Zainab\n",
      "My best friend is Iffat\n",
      "My best friend is Aneeq\n"
     ]
    }
   ],
   "source": [
    "\n",
    "                                        3.2\n",
    "\n",
    "friends_name:list = ['wajeeha','huma','fatima','zainab','iffat','aneeq']\n",
    "message:list = f\"My best friend is {friends_name[0].title()}\"\n",
    "print(message)\n",
    "message1:list = f\"My best friend is {friends_name[1].title()}\"\n",
    "print(message1)\n",
    "message2:list = f\"My best friend is {friends_name[2].title()}\"\n",
    "print(message2)\n",
    "message3:list = f\"My best friend is {friends_name[3].title()}\"\n",
    "print(message3)\n",
    "message4:list = f\"My best friend is {friends_name[4].title()}\"\n",
    "print(message4)\n",
    "message5:list = f\"My best friend is {friends_name[5].title()}\"\n",
    "print(message5)"
   ]
  },
  {
   "cell_type": "code",
   "execution_count": 3,
   "metadata": {},
   "outputs": [
    {
     "name": "stdout",
     "output_type": "stream",
     "text": [
      "I would like to own a Honda Car\n",
      "I would like to own a Heavy duty Truck\n",
      "I would like to own a Hybrid Bike\n"
     ]
    }
   ],
   "source": [
    "\n",
    "                                      3.3\n",
    "\n",
    "Transport:list = ['car','truck','bike']\n",
    "trans1:list = f\"I would like to own a Honda {Transport[0].title()}\"\n",
    "print(trans1)\n",
    "trans2:list = f\"I would like to own a Heavy duty {Transport[1].title()}\"\n",
    "print(trans2)\n",
    "trans3:list = f\"I would like to own a Hybrid {Transport[2].title()}\"\n",
    "print(trans3)\n"
   ]
  },
  {
   "cell_type": "code",
   "execution_count": 4,
   "metadata": {},
   "outputs": [
    {
     "name": "stdout",
     "output_type": "stream",
     "text": [
      "Please! Mama come today for dinner\n",
      "Please! Papa come today for dinner\n",
      "Please! Sister come today for dinner\n",
      "Please! Husband come today for dinner\n"
     ]
    }
   ],
   "source": [
    "\n",
    "                                   3.4\n",
    "\n",
    "Guest:list = ['mama','papa','sister','husband']\n",
    "Guest1:list = f\"Please! {Guest[0].title()} come today for dinner\"\n",
    "print(Guest1)\n",
    "Guest2:list = f\"Please! {Guest[1].title()} come today for dinner\"\n",
    "print(Guest2)\n",
    "Guest3:list = f\"Please! {Guest[2].title()} come today for dinner\"\n",
    "print(Guest3)\n",
    "Guest4:list = f\"Please! {Guest[3].title()} come today for dinner\"\n",
    "print(Guest4)"
   ]
  },
  {
   "cell_type": "code",
   "execution_count": 5,
   "metadata": {},
   "outputs": [
    {
     "name": "stdout",
     "output_type": "stream",
     "text": [
      "['mama', 'papa', 'sister', 'husband']\n",
      "['brother', 'papa', 'sister', 'daughter']\n"
     ]
    }
   ],
   "source": [
    "\n",
    "                            3.5\n",
    "\n",
    "print(Guest)\n",
    "Guest[0] = 'brother'\n",
    "Guest[3] = 'daughter'\n",
    "print(Guest)"
   ]
  },
  {
   "cell_type": "code",
   "execution_count": 6,
   "metadata": {},
   "outputs": [
    {
     "name": "stdout",
     "output_type": "stream",
     "text": [
      "['mama', 'papa', 'sister', 'husband']\n"
     ]
    }
   ],
   "source": [
    "Guest:list = ['mama','papa','sister','husband']\n",
    "print(Guest)"
   ]
  },
  {
   "cell_type": "code",
   "execution_count": 7,
   "metadata": {},
   "outputs": [
    {
     "name": "stdout",
     "output_type": "stream",
     "text": [
      "['son', 'mama', 'papa', 'sister', 'husband']\n",
      "['son', 'mama', 'friend', 'papa', 'sister', 'husband']\n",
      "['son', 'mama', 'friend', 'papa', 'sister', 'husband', 'cousin']\n",
      "plz! come i have a big table for you Son\n",
      "plz! come i have a big table for you Mama\n",
      "plz! come i have a big table for you Friend\n",
      "plz! come i have a big table for you Papa\n",
      "plz! come i have a big table for you Sister\n",
      "plz! come i have a big table for you Husband\n"
     ]
    }
   ],
   "source": [
    "\n",
    "                        3.6\n",
    "\n",
    "Guest.insert(0, 'son')\n",
    "print(Guest)\n",
    "Guest.insert(2, 'friend')\n",
    "print(Guest)\n",
    "Guest.append('cousin')\n",
    "print(Guest)\n",
    "message1:list = f\"plz! come i have a big table for you {Guest[0].title()}\"\n",
    "print(message1)\n",
    "message2:list = f\"plz! come i have a big table for you {Guest[1].title()}\"\n",
    "print(message2)\n",
    "message3:list = f\"plz! come i have a big table for you {Guest[2].title()}\"\n",
    "print(message3)\n",
    "message4:list = f\"plz! come i have a big table for you {Guest[3].title()}\"\n",
    "print(message4)\n",
    "message5:list = f\"plz! come i have a big table for you {Guest[4].title()}\"\n",
    "print(message5)\n",
    "message6:list = f\"plz! come i have a big table for you {Guest[5].title()}\"\n",
    "print(message6)\n"
   ]
  },
  {
   "cell_type": "code",
   "execution_count": 8,
   "metadata": {},
   "outputs": [
    {
     "name": "stdout",
     "output_type": "stream",
     "text": [
      "hello! respectable guests i can invite only two people for dinner.\n"
     ]
    }
   ],
   "source": [
    "                        3.7\n",
    "\n",
    "message:list = 'hello! respectable guests i can invite only two people for dinner.'\n",
    "print(message)"
   ]
  },
  {
   "cell_type": "code",
   "execution_count": 9,
   "metadata": {},
   "outputs": [
    {
     "name": "stdout",
     "output_type": "stream",
     "text": [
      "['son', 'mama', 'friend', 'papa', 'sister', 'husband', 'cousin']\n"
     ]
    }
   ],
   "source": [
    "Guest:list = ['son', 'mama', 'friend', 'papa', 'sister', 'husband', 'cousin']\n",
    "print(Guest)"
   ]
  },
  {
   "cell_type": "code",
   "execution_count": 10,
   "metadata": {},
   "outputs": [
    {
     "name": "stdout",
     "output_type": "stream",
     "text": [
      "['son', 'mama', 'friend', 'papa', 'sister', 'husband']\n",
      "cousin\n",
      "i am sorry i cannot invite you dear! Cousin\n"
     ]
    }
   ],
   "source": [
    "popped_Guest = Guest.pop()\n",
    "print(Guest)\n",
    "print(popped_Guest)\n",
    "message:list = f\"i am sorry i cannot invite you dear! {popped_Guest.title()}\"\n",
    "print(message)"
   ]
  },
  {
   "cell_type": "code",
   "execution_count": 11,
   "metadata": {},
   "outputs": [
    {
     "name": "stdout",
     "output_type": "stream",
     "text": [
      "['son', 'mama', 'friend', 'papa', 'sister']\n",
      "husband\n",
      "i am sorry i cannot invite you dear! Husband\n"
     ]
    }
   ],
   "source": [
    "popped_Guest = Guest.pop()\n",
    "print(Guest)\n",
    "print(popped_Guest)\n",
    "message:list = f\"i am sorry i cannot invite you dear! {popped_Guest.title()}\"\n",
    "print(message)"
   ]
  },
  {
   "cell_type": "code",
   "execution_count": 12,
   "metadata": {},
   "outputs": [
    {
     "name": "stdout",
     "output_type": "stream",
     "text": [
      "['son', 'mama', 'friend', 'papa']\n",
      "sister\n",
      "i am sorry i cannot invite you dear! Sister\n"
     ]
    }
   ],
   "source": [
    "popped_Guest = Guest.pop()\n",
    "print(Guest)\n",
    "print(popped_Guest)\n",
    "message:list = f\"i am sorry i cannot invite you dear! {popped_Guest.title()}\"\n",
    "print(message)"
   ]
  },
  {
   "cell_type": "code",
   "execution_count": 13,
   "metadata": {},
   "outputs": [
    {
     "name": "stdout",
     "output_type": "stream",
     "text": [
      "['son', 'mama', 'friend']\n",
      "papa\n",
      "i am sorry i cannot invite you dear! Papa\n"
     ]
    }
   ],
   "source": [
    "popped_Guest = Guest.pop()\n",
    "print(Guest)\n",
    "print(popped_Guest)\n",
    "message:list = f\"i am sorry i cannot invite you dear! {popped_Guest.title()}\"\n",
    "print(message)"
   ]
  },
  {
   "cell_type": "code",
   "execution_count": 14,
   "metadata": {},
   "outputs": [
    {
     "name": "stdout",
     "output_type": "stream",
     "text": [
      "['son', 'mama']\n",
      "friend\n",
      "i am sorry i cannot invite you dear! Friend\n"
     ]
    }
   ],
   "source": [
    "popped_Guest = Guest.pop()\n",
    "print(Guest)\n",
    "print(popped_Guest)\n",
    "message:list = f\"i am sorry i cannot invite you dear! {popped_Guest.title()}\"\n",
    "print(message)"
   ]
  },
  {
   "cell_type": "code",
   "execution_count": 15,
   "metadata": {},
   "outputs": [
    {
     "name": "stdout",
     "output_type": "stream",
     "text": [
      "['son', 'mama']\n",
      "You are still invited for dear! Son\n",
      "You are still invited for dear! Mama\n"
     ]
    }
   ],
   "source": [
    "print(Guest)\n",
    "message:list = f\"You are still invited for dear! {Guest[0].title()}\"\n",
    "print(message)\n",
    "message1:list = f\"You are still invited for dear! {Guest[1].title()}\"\n",
    "print(message1)\n",
    "\n"
   ]
  },
  {
   "cell_type": "code",
   "execution_count": 16,
   "metadata": {},
   "outputs": [
    {
     "name": "stdout",
     "output_type": "stream",
     "text": [
      "['mama']\n"
     ]
    }
   ],
   "source": [
    "del Guest[0]\n",
    "print(Guest)\n",
    "\n"
   ]
  },
  {
   "cell_type": "code",
   "execution_count": 17,
   "metadata": {},
   "outputs": [
    {
     "name": "stdout",
     "output_type": "stream",
     "text": [
      "[]\n"
     ]
    }
   ],
   "source": [
    "del Guest[0]\n",
    "print(Guest)"
   ]
  },
  {
   "cell_type": "code",
   "execution_count": 18,
   "metadata": {},
   "outputs": [
    {
     "name": "stdout",
     "output_type": "stream",
     "text": [
      "['aliya', 'hira', 'ana', 'batool', 'fiza']\n"
     ]
    }
   ],
   "source": [
    "\n",
    "                              3.9\n",
    "\n",
    "names:list = ['aliya','hira','ana','batool','fiza']\n",
    "print(names)"
   ]
  },
  {
   "cell_type": "code",
   "execution_count": 19,
   "metadata": {},
   "outputs": [
    {
     "name": "stdout",
     "output_type": "stream",
     "text": [
      "aliya\n"
     ]
    }
   ],
   "source": [
    "names:list = ['aliya','hira','ana','batool','fiza']\n",
    "print(names[0])\n"
   ]
  },
  {
   "cell_type": "code",
   "execution_count": 20,
   "metadata": {},
   "outputs": [
    {
     "name": "stdout",
     "output_type": "stream",
     "text": [
      "batool\n"
     ]
    }
   ],
   "source": [
    "names:list = ['aliya','hira','ana','batool','fiza']\n",
    "print(names[3])\n"
   ]
  },
  {
   "cell_type": "code",
   "execution_count": 21,
   "metadata": {},
   "outputs": [
    {
     "name": "stdout",
     "output_type": "stream",
     "text": [
      "fiza\n"
     ]
    }
   ],
   "source": [
    "names:list = ['aliya','hira','ana','batool','fiza']\n",
    "print(names[-1])"
   ]
  },
  {
   "cell_type": "code",
   "execution_count": 22,
   "metadata": {},
   "outputs": [
    {
     "name": "stdout",
     "output_type": "stream",
     "text": [
      " i am impressed by Ana\n"
     ]
    }
   ],
   "source": [
    "names:list = ['aliya','hira','ana','batool','fiza']\n",
    "message = f\" i am impressed by {names[2].title()}\"\n",
    "print(message)"
   ]
  },
  {
   "cell_type": "code",
   "execution_count": 23,
   "metadata": {},
   "outputs": [
    {
     "name": "stdout",
     "output_type": "stream",
     "text": [
      "['aliya', 'hira', 'ana', 'batool', 'fiza']\n",
      "['jiya', 'hira', 'ana', 'batool', 'fiza']\n"
     ]
    }
   ],
   "source": [
    "names:list = ['aliya','hira','ana','batool','fiza']\n",
    "print(names)\n",
    "names[0] = \"jiya\"\n",
    "print(names)"
   ]
  },
  {
   "cell_type": "code",
   "execution_count": 24,
   "metadata": {},
   "outputs": [
    {
     "name": "stdout",
     "output_type": "stream",
     "text": [
      "['aliya', 'hira', 'ana', 'batool', 'fiza']\n",
      "['aliya', 'hira', 'ana', 'batool', 'fiza', 'ziya']\n"
     ]
    }
   ],
   "source": [
    "names:list = ['aliya','hira','ana','batool','fiza']\n",
    "print(names)\n",
    "names.append('ziya')\n",
    "print(names)\n"
   ]
  },
  {
   "cell_type": "code",
   "execution_count": 25,
   "metadata": {},
   "outputs": [
    {
     "name": "stdout",
     "output_type": "stream",
     "text": [
      "['aliya', 'hira', 'ana', 'batool', 'fiza']\n",
      "['ziya', 'aliya', 'hira', 'ana', 'batool', 'fiza']\n"
     ]
    }
   ],
   "source": [
    "names:list = ['aliya','hira','ana','batool','fiza']\n",
    "print(names)\n",
    "names.insert(0, 'ziya')\n",
    "print(names)"
   ]
  },
  {
   "cell_type": "code",
   "execution_count": 26,
   "metadata": {},
   "outputs": [
    {
     "name": "stdout",
     "output_type": "stream",
     "text": [
      "['aliya', 'hira', 'ana', 'batool', 'fiza']\n",
      "['hira', 'ana', 'batool', 'fiza']\n"
     ]
    }
   ],
   "source": [
    "names:list = ['aliya','hira','ana','batool','fiza']\n",
    "print(names)\n",
    "del names[0]\n",
    "print(names)"
   ]
  },
  {
   "cell_type": "code",
   "execution_count": 27,
   "metadata": {},
   "outputs": [
    {
     "name": "stdout",
     "output_type": "stream",
     "text": [
      "['aliya', 'hira', 'ana', 'batool', 'fiza']\n",
      "fiza\n"
     ]
    }
   ],
   "source": [
    "names:list = ['aliya','hira','ana','batool','fiza']\n",
    "print(names)\n",
    "popped_names = names.pop()\n",
    "print(popped_names)"
   ]
  },
  {
   "cell_type": "code",
   "execution_count": 28,
   "metadata": {},
   "outputs": [
    {
     "name": "stdout",
     "output_type": "stream",
     "text": [
      "['aliya', 'hira', 'ana', 'batool', 'fiza']\n",
      "['aliya', 'ana', 'batool', 'fiza']\n"
     ]
    }
   ],
   "source": [
    "names:list = ['aliya','hira','ana','batool','fiza']\n",
    "print(names)\n",
    "names.remove('hira')\n",
    "print(names)"
   ]
  },
  {
   "cell_type": "code",
   "execution_count": 29,
   "metadata": {},
   "outputs": [
    {
     "name": "stdout",
     "output_type": "stream",
     "text": [
      "['aliya', 'hira', 'ana', 'batool', 'fiza']\n",
      "['aliya', 'ana', 'batool', 'fiza', 'hira']\n"
     ]
    }
   ],
   "source": [
    "names:list = ['aliya','hira','ana','batool','fiza']\n",
    "print(names)\n",
    "names.sort()\n",
    "print(names)"
   ]
  },
  {
   "cell_type": "code",
   "execution_count": 30,
   "metadata": {},
   "outputs": [
    {
     "name": "stdout",
     "output_type": "stream",
     "text": [
      "['aliya', 'hira', 'ana', 'batool', 'fiza']\n",
      "['fiza', 'batool', 'ana', 'hira', 'aliya']\n"
     ]
    }
   ],
   "source": [
    "names:list = ['aliya','hira','ana','batool','fiza']\n",
    "print(names)\n",
    "names.reverse()\n",
    "print(names)"
   ]
  },
  {
   "cell_type": "code",
   "execution_count": 31,
   "metadata": {},
   "outputs": [
    {
     "data": {
      "text/plain": [
       "5"
      ]
     },
     "execution_count": 31,
     "metadata": {},
     "output_type": "execute_result"
    }
   ],
   "source": [
    "names:list = ['aliya','hira','ana','batool','fiza']\n",
    "len(names)"
   ]
  },
  {
   "cell_type": "code",
   "execution_count": 32,
   "metadata": {},
   "outputs": [
    {
     "name": "stdout",
     "output_type": "stream",
     "text": [
      "['faizan', 'hassan']\n"
     ]
    }
   ],
   "source": [
    "boys:list = ['faizan','hassan']\n",
    "print(boys)"
   ]
  },
  {
   "cell_type": "code",
   "execution_count": 33,
   "metadata": {},
   "outputs": [
    {
     "name": "stdout",
     "output_type": "stream",
     "text": [
      "['aliya', 'hira', 'ana', 'batool', 'fiza', 'faizan', 'hassan']\n"
     ]
    }
   ],
   "source": [
    "names.extend(boys)\n",
    "print(names)"
   ]
  },
  {
   "cell_type": "code",
   "execution_count": 34,
   "metadata": {},
   "outputs": [],
   "source": [
    "names.clear()"
   ]
  },
  {
   "cell_type": "code",
   "execution_count": 35,
   "metadata": {},
   "outputs": [
    {
     "name": "stdout",
     "output_type": "stream",
     "text": [
      "['turky', 'pak', 'germany', 'canada']\n"
     ]
    }
   ],
   "source": [
    "\n",
    "                     3.8\n",
    "\n",
    "places:list = ['turky','pak','germany','canada']\n",
    "print(places)\n",
    "\n"
   ]
  },
  {
   "cell_type": "code",
   "execution_count": 36,
   "metadata": {},
   "outputs": [
    {
     "name": "stdout",
     "output_type": "stream",
     "text": [
      "Here is the original list:\n",
      "['turky', 'pak', 'germany', 'canada']\n",
      "\n",
      "Here is the sorted list:\n",
      "['canada', 'germany', 'pak', 'turky']\n",
      "\n",
      "Here is the original list again:\n",
      "['turky', 'pak', 'germany', 'canada']\n"
     ]
    }
   ],
   "source": [
    "print(\"Here is the original list:\")\n",
    "print(places)\n",
    "print(\"\\nHere is the sorted list:\")\n",
    "print(sorted(places))\n",
    "print(\"\\nHere is the original list again:\")\n",
    "print(places)"
   ]
  },
  {
   "cell_type": "code",
   "execution_count": 37,
   "metadata": {},
   "outputs": [
    {
     "name": "stdout",
     "output_type": "stream",
     "text": [
      "['canada', 'germany', 'pak', 'turky']\n"
     ]
    }
   ],
   "source": [
    "places.reverse()\n",
    "print(places)"
   ]
  },
  {
   "cell_type": "code",
   "execution_count": 38,
   "metadata": {},
   "outputs": [
    {
     "name": "stdout",
     "output_type": "stream",
     "text": [
      "['turky', 'pak', 'germany', 'canada']\n"
     ]
    }
   ],
   "source": [
    "places.reverse()\n",
    "print(places)"
   ]
  },
  {
   "cell_type": "code",
   "execution_count": 39,
   "metadata": {},
   "outputs": [
    {
     "name": "stdout",
     "output_type": "stream",
     "text": [
      "['canada', 'germany', 'pak', 'turky']\n"
     ]
    }
   ],
   "source": [
    "places.sort()\n",
    "print(places)"
   ]
  },
  {
   "cell_type": "code",
   "execution_count": 40,
   "metadata": {},
   "outputs": [
    {
     "name": "stdout",
     "output_type": "stream",
     "text": [
      "None\n",
      "['turky', 'pak', 'germany', 'canada']\n"
     ]
    }
   ],
   "source": [
    "places = ['turky','pak','germany','canada']\n",
    "print(places.sort(reverse=True))\n",
    "print(places)"
   ]
  },
  {
   "cell_type": "code",
   "execution_count": 41,
   "metadata": {},
   "outputs": [
    {
     "ename": "IndexError",
     "evalue": "list index out of range",
     "output_type": "error",
     "traceback": [
      "\u001b[1;31m---------------------------------------------------------------------------\u001b[0m",
      "\u001b[1;31mIndexError\u001b[0m                                Traceback (most recent call last)",
      "Cell \u001b[1;32mIn[41], line 4\u001b[0m\n\u001b[0;32m      1\u001b[0m \u001b[38;5;241m3.10\u001b[39m\n\u001b[0;32m      3\u001b[0m colour:\u001b[38;5;28mlist\u001b[39m \u001b[38;5;241m=\u001b[39m [\u001b[38;5;124m'\u001b[39m\u001b[38;5;124mwhite\u001b[39m\u001b[38;5;124m'\u001b[39m,\u001b[38;5;124m'\u001b[39m\u001b[38;5;124mgreen\u001b[39m\u001b[38;5;124m'\u001b[39m,\u001b[38;5;124m'\u001b[39m\u001b[38;5;124mblue\u001b[39m\u001b[38;5;124m'\u001b[39m]\n\u001b[1;32m----> 4\u001b[0m \u001b[38;5;28mprint\u001b[39m(\u001b[43mcolour\u001b[49m\u001b[43m[\u001b[49m\u001b[38;5;241;43m4\u001b[39;49m\u001b[43m]\u001b[49m)\n",
      "\u001b[1;31mIndexError\u001b[0m: list index out of range"
     ]
    }
   ],
   "source": [
    "\n",
    "                                  3.10\n",
    "\n",
    "colour:list = ['white','green','blue']\n",
    "print(colour[4])\n"
   ]
  },
  {
   "cell_type": "code",
   "execution_count": null,
   "metadata": {},
   "outputs": [
    {
     "name": "stdout",
     "output_type": "stream",
     "text": [
      "green\n"
     ]
    }
   ],
   "source": [
    "colour:list = ['white','green','blue']\n",
    "print(colour[1])"
   ]
  },
  {
   "cell_type": "code",
   "execution_count": null,
   "metadata": {},
   "outputs": [],
   "source": []
  }
 ],
 "metadata": {
  "kernelspec": {
   "display_name": "Python 3",
   "language": "python",
   "name": "python3"
  },
  "language_info": {
   "codemirror_mode": {
    "name": "ipython",
    "version": 3
   },
   "file_extension": ".py",
   "mimetype": "text/x-python",
   "name": "python",
   "nbconvert_exporter": "python",
   "pygments_lexer": "ipython3",
   "version": "3.12.4"
  }
 },
 "nbformat": 4,
 "nbformat_minor": 2
}
