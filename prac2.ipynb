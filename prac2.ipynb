{
 "cells": [
  {
   "cell_type": "code",
   "execution_count": 2,
   "metadata": {},
   "outputs": [
    {
     "name": "stdout",
     "output_type": "stream",
     "text": [
      "wajeha\n",
      "fatima\n",
      "iffat\n"
     ]
    }
   ],
   "source": [
    "frnds:list = ['wajeha','fatima','iffat']\n",
    "print(frnds[0])\n",
    "print(frnds[1])\n",
    "print(frnds[2])\n"
   ]
  },
  {
   "cell_type": "code",
   "execution_count": 3,
   "metadata": {},
   "outputs": [
    {
     "name": "stdout",
     "output_type": "stream",
     "text": [
      "how are youwajeha\n",
      "how are youfatima\n",
      "how are youiffat\n"
     ]
    }
   ],
   "source": [
    "frnds:list = ['wajeha','fatima','iffat']\n",
    "print(f\"how are you{frnds[0]}\")\n",
    "print(f\"how are you{frnds[1]}\")\n",
    "print(f\"how are you{frnds[2]}\")\n"
   ]
  },
  {
   "cell_type": "code",
   "execution_count": 4,
   "metadata": {},
   "outputs": [
    {
     "name": "stdout",
     "output_type": "stream",
     "text": [
      "i like to have honnda\n",
      "i like to have carola\n",
      "i like to have mehra\n"
     ]
    }
   ],
   "source": [
    "cars = ['honnda','carola','mehra']\n",
    "print(f\"i like to have {cars [0]}\")\n",
    "print(f\"i like to have {cars [1]}\")\n",
    "print(f\"i like to have {cars [2]}\")"
   ]
  },
  {
   "cell_type": "code",
   "execution_count": 5,
   "metadata": {},
   "outputs": [
    {
     "name": "stdout",
     "output_type": "stream",
     "text": [
      "34\n"
     ]
    }
   ],
   "source": [
    "marks = int(input('enter your number:'))\n",
    "print(marks)"
   ]
  },
  {
   "cell_type": "code",
   "execution_count": 6,
   "metadata": {},
   "outputs": [
    {
     "name": "stdout",
     "output_type": "stream",
     "text": [
      "failed\n"
     ]
    }
   ],
   "source": [
    "marks = int(input('enter your number:'))\n",
    "if marks >=33:\n",
    "    print(\"pass\")\n",
    "else:\n",
    "    print(\"failed\")"
   ]
  },
  {
   "cell_type": "code",
   "execution_count": 7,
   "metadata": {},
   "outputs": [
    {
     "name": "stdout",
     "output_type": "stream",
     "text": [
      "pass\n"
     ]
    }
   ],
   "source": [
    "marks = int(input('enter your number:'))\n",
    "if marks >=33:\n",
    "    print(\"pass\")\n",
    "else:\n",
    "    print(\"failed\")"
   ]
  },
  {
   "cell_type": "code",
   "execution_count": 1,
   "metadata": {},
   "outputs": [
    {
     "name": "stdout",
     "output_type": "stream",
     "text": [
      "pleasent\n"
     ]
    }
   ],
   "source": [
    "temp = float(input('enter temperature:'))\n",
    "if temp > 35:\n",
    "    print('hot')\n",
    "elif temp >= 20 and temp <= 35:\n",
    "    print('pleasent')\n",
    "else:\n",
    "    print('it cool')"
   ]
  },
  {
   "cell_type": "code",
   "execution_count": null,
   "metadata": {},
   "outputs": [],
   "source": [
    "# Prompt the user to enter the first number.\n",
    "# Read the input and convert it to an integer.\n",
    "# Prompt the user to enter the second number.\n",
    "# Read the input and convert it to an integer.\n",
    "# Calculate the sum of the two numbers.\n",
    "# Print the total sum with an appropriate message."
   ]
  },
  {
   "cell_type": "code",
   "execution_count": 2,
   "metadata": {},
   "outputs": [
    {
     "name": "stdout",
     "output_type": "stream",
     "text": [
      "This is 5\n"
     ]
    }
   ],
   "source": [
    "num1= int(input(\"enter you number:\"))\n",
    "num2= int(input(\"enter you number:\"))\n",
    "sum = num1+num2\n",
    "print(f\"This is {sum}\")"
   ]
  },
  {
   "cell_type": "code",
   "execution_count": null,
   "metadata": {},
   "outputs": [],
   "source": [
    "Write a program which asks the user what their favorite animal is, and then always responds with \"My favorite animal is also ___!\" (the blank should be filled in with the user-inputted animal, of course).\n",
    "\n",
    "Here's a sample run of the program (user input is in bold italics - note the space between the prompt and the user input!):\n",
    "\n",
    "What's your favorite animal? cow\n",
    "\n",
    "My favorite animal is also cow!"
   ]
  },
  {
   "cell_type": "code",
   "execution_count": 4,
   "metadata": {},
   "outputs": [
    {
     "name": "stdout",
     "output_type": "stream",
     "text": [
      "what is your fvrt cow\n",
      "my fvrt animal is also cow\n"
     ]
    }
   ],
   "source": [
    "animal =str(input(\"enter your fvrt animal:\"))\n",
    "fvrt = str(input(\"enter your fvrt animal:\"))\n",
    "print(f\"what is your fvrt {animal}\")\n",
    "print(f\"my fvrt animal is also {fvrt}\")"
   ]
  },
  {
   "cell_type": "code",
   "execution_count": null,
   "metadata": {},
   "outputs": [],
   "source": [
    "Fahrenheit to Celsius Write a program which prompts the user for a temperature in Fahrenheit (this can be a number with decimal places!) and outputs the temperature converted to Celsius.\n",
    "\n",
    "The Celsius scale is widely used to measure temperature, but places still use Fahrenheit. Fahrenheit is another unit for temperature, but the scale is different from Celsius -- for example, 0 degrees Celsius is 32 degrees Fahrenheit!\n",
    "\n",
    "The equation you should use for converting from Fahrenheit to Celsius is the following:\n",
    "\n",
    "degrees_celsius = (degrees_fahrenheit - 32) * 5.0/9.0\n",
    "\n",
    "(Note. The .0 after the 5 and 9 matters in the line above!!!)\n",
    "\n",
    "Here's a sample run of the program (user input is in bold italics):\n",
    "\n",
    "Enter temperature in Fahrenheit: 76\n",
    "\n",
    "Temperature: 76.0F = 24.444444444444443C"
   ]
  },
  {
   "cell_type": "code",
   "execution_count": 6,
   "metadata": {},
   "outputs": [
    {
     "name": "stdout",
     "output_type": "stream",
     "text": [
      "24.444444444444443\n"
     ]
    }
   ],
   "source": [
    "temp_f = float(input(\"enter your temperature:\"))\n",
    "degrees_celsius = (temp_f - 32) * 5.0/9.0\n",
    "print(degrees_celsius)\n",
    "\n"
   ]
  },
  {
   "cell_type": "code",
   "execution_count": null,
   "metadata": {},
   "outputs": [],
   "source": [
    "What is the length of side 1? 3\n",
    "\n",
    "What is the length of side 2? 4\n",
    "\n",
    "What is the length of side 3? 5.5"
   ]
  },
  {
   "cell_type": "code",
   "execution_count": 8,
   "metadata": {},
   "outputs": [
    {
     "name": "stdout",
     "output_type": "stream",
     "text": [
      "the perimeter of the triangle12.5\n"
     ]
    }
   ],
   "source": [
    "a = int(input(\"enter the length:\"))\n",
    "b = int(input(\"enter the length:\"))\n",
    "c = float(input(\"enter the length:\"))\n",
    "peri = a+b+c\n",
    "print(f\"the perimeter of the triangle{peri}\")"
   ]
  },
  {
   "cell_type": "code",
   "execution_count": null,
   "metadata": {},
   "outputs": [],
   "source": [
    "Square Number Ask the user for a number and print its square (the product of the number times itself).\n",
    "\n",
    "Here's a sample run of the program (user input is in bold italics):\n",
    "\n",
    "Type a number to see its square: 4\n",
    "\n",
    "4.0 squared is 16.0"
   ]
  },
  {
   "cell_type": "code",
   "execution_count": 11,
   "metadata": {},
   "outputs": [
    {
     "name": "stdout",
     "output_type": "stream",
     "text": [
      "4\n"
     ]
    }
   ],
   "source": [
    "num = int(input(\"enter a number:\"))\n",
    "sq = num*num\n",
    "print(sq)"
   ]
  },
  {
   "cell_type": "code",
   "execution_count": 12,
   "metadata": {},
   "outputs": [
    {
     "name": "stdout",
     "output_type": "stream",
     "text": [
      "[1, 2, 3, 4, 5]\n",
      "[1, 2, 4, 5]\n"
     ]
    }
   ],
   "source": [
    "num:list =[1,2,3,4,5]\n",
    "print(num)\n",
    "del num[2]\n",
    "print(num)"
   ]
  },
  {
   "cell_type": "code",
   "execution_count": 15,
   "metadata": {},
   "outputs": [
    {
     "name": "stdout",
     "output_type": "stream",
     "text": [
      "[1, 2, 3]\n",
      "[4, 5, 6]\n"
     ]
    },
    {
     "data": {
      "text/plain": [
       "[1, 2, 3, 4, 5, 6]"
      ]
     },
     "execution_count": 15,
     "metadata": {},
     "output_type": "execute_result"
    }
   ],
   "source": [
    "list1 = [1,2,3]\n",
    "print(list1)\n",
    "list2 = [4,5,6]\n",
    "print(list2)\n",
    "list1.extend(list2)\n",
    "list1"
   ]
  },
  {
   "cell_type": "code",
   "execution_count": 16,
   "metadata": {},
   "outputs": [
    {
     "data": {
      "text/plain": [
       "60"
      ]
     },
     "execution_count": 16,
     "metadata": {},
     "output_type": "execute_result"
    }
   ],
   "source": [
    "list = [15,30,45,60]\n",
    "list.pop()"
   ]
  },
  {
   "cell_type": "code",
   "execution_count": 18,
   "metadata": {},
   "outputs": [
    {
     "data": {
      "text/plain": [
       "2"
      ]
     },
     "execution_count": 18,
     "metadata": {},
     "output_type": "execute_result"
    }
   ],
   "source": [
    "list = ['red', 'blue', 'green', 'yellow']\n",
    "list.index(\"green\")"
   ]
  },
  {
   "cell_type": "code",
   "execution_count": null,
   "metadata": {},
   "outputs": [],
   "source": [
    "Get a List Write a program which continuously asks the user to enter values which are added one by one into a list.  print the list.\n",
    "\n",
    "Here's a sample run (user input is in blue):\n",
    "\n",
    "Enter a value: 1\n",
    "Enter a value: 2\n",
    "Enter a value: 3\n",
    "Enter a value:\n",
    "Here's the list: ['1', '2', '3']"
   ]
  },
  {
   "cell_type": "code",
   "execution_count": 1,
   "metadata": {},
   "outputs": [
    {
     "name": "stdout",
     "output_type": "stream",
     "text": [
      "Here's the list: ['1', '2', '3']\n"
     ]
    }
   ],
   "source": [
    "# Initialize an empty list to store the user inputs\n",
    "user_list = []\n",
    "\n",
    "# Continuously ask the user to enter values\n",
    "while True:\n",
    "    # Ask the user for input\n",
    "    value = input(\"Enter a value: \")\n",
    "\n",
    "    # If the user presses enter without typing anything, break the loop\n",
    "    if value == \"\":\n",
    "        break\n",
    "\n",
    "    # Add the entered value to the list\n",
    "    user_list.append(value)\n",
    "\n",
    "# Print the final list\n",
    "print(\"Here's the list:\", user_list)\n"
   ]
  },
  {
   "cell_type": "code",
   "execution_count": 10,
   "metadata": {},
   "outputs": [
    {
     "name": "stdout",
     "output_type": "stream",
     "text": [
      "Here's the list: [1]\n"
     ]
    }
   ],
   "source": [
    "user_list = []\n",
    "value = int(input(\"Enter a value: \"))\n",
    "user_list.append(value)\n",
    "if value == \"\":\n",
    "    print()\n",
    "print(\"Here's the list:\", user_list)"
   ]
  },
  {
   "cell_type": "code",
   "execution_count": 13,
   "metadata": {},
   "outputs": [
    {
     "name": "stdout",
     "output_type": "stream",
     "text": [
      "2 x 1 = 2\n",
      "2 x 2 = 4\n",
      "2 x 3 = 6\n",
      "2 x 4 = 8\n",
      "2 x 5 = 10\n",
      "2 x 6 = 12\n",
      "2 x 7 = 14\n",
      "2 x 8 = 16\n",
      "2 x 9 = 18\n",
      "2 x 10 = 20\n"
     ]
    }
   ],
   "source": [
    "for i in range(1,11):\n",
    " print(2,\"x\",i,\"=\",2*i)"
   ]
  },
  {
   "cell_type": "code",
   "execution_count": 14,
   "metadata": {},
   "outputs": [
    {
     "name": "stdout",
     "output_type": "stream",
     "text": [
      "7 x 1 = 7\n",
      "7 x 2 = 14\n",
      "7 x 3 = 21\n",
      "7 x 4 = 28\n",
      "7 x 5 = 35\n",
      "7 x 6 = 42\n",
      "7 x 7 = 49\n",
      "7 x 8 = 56\n",
      "7 x 9 = 63\n",
      "7 x 10 = 70\n"
     ]
    }
   ],
   "source": [
    "for i in range(1,11):\n",
    " print(7,\"x\",i,\"=\",7*i)"
   ]
  },
  {
   "cell_type": "code",
   "execution_count": 15,
   "metadata": {},
   "outputs": [],
   "source": [
    "def get_last_element(lst):\n",
    "    print(lst[-1])\n"
   ]
  },
  {
   "cell_type": "code",
   "execution_count": 16,
   "metadata": {},
   "outputs": [
    {
     "name": "stdout",
     "output_type": "stream",
     "text": [
      "20\n"
     ]
    }
   ],
   "source": [
    "\n",
    "my_list = [5, 10, 15, 20]\n",
    "get_last_element(my_list)\n"
   ]
  },
  {
   "cell_type": "code",
   "execution_count": 17,
   "metadata": {},
   "outputs": [
    {
     "name": "stdout",
     "output_type": "stream",
     "text": [
      "4\n"
     ]
    }
   ],
   "source": [
    "elements : list = [1,2,3,4]\n",
    "print(elements[3])"
   ]
  },
  {
   "cell_type": "code",
   "execution_count": null,
   "metadata": {},
   "outputs": [],
   "source": []
  }
 ],
 "metadata": {
  "kernelspec": {
   "display_name": "Python 3",
   "language": "python",
   "name": "python3"
  },
  "language_info": {
   "codemirror_mode": {
    "name": "ipython",
    "version": 3
   },
   "file_extension": ".py",
   "mimetype": "text/x-python",
   "name": "python",
   "nbconvert_exporter": "python",
   "pygments_lexer": "ipython3",
   "version": "3.12.4"
  }
 },
 "nbformat": 4,
 "nbformat_minor": 2
}
